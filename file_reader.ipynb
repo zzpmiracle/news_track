{
 "cells": [
  {
   "cell_type": "code",
   "execution_count": 1,
   "metadata": {
    "collapsed": true
   },
   "outputs": [],
   "source": [
    "import json\n",
    "filePath = 'C:\\TREC_Washington_Post_collection.v2.jl'\n",
    "f =open(filePath,'r', encoding='UTF-8')"
   ]
  },
  {
   "cell_type": "code",
   "execution_count": 2,
   "metadata": {},
   "outputs": [],
   "source": [
    "text1 = json.loads(next(f),encoding='utf-8')"
   ]
  },
  {
   "cell_type": "code",
   "execution_count": 4,
   "metadata": {
    "collapsed": false
   },
   "outputs": [
    {
     "data": {
      "text/plain": [
       "dict_keys(['id', 'article_url', 'title', 'author', 'published_date', 'contents', 'type', 'source'])"
      ]
     },
     "execution_count": 4,
     "metadata": {},
     "output_type": "execute_result"
    }
   ],
   "source": [
    "text1.keys()"
   ]
  },
  {
   "cell_type": "code",
   "execution_count": 4,
   "metadata": {
    "collapsed": false
   },
   "outputs": [
    {
     "name": "stdout",
     "output_type": "stream",
     "text": [
      "text/plain kicker\ntext/plain title\nimage/jpeg image\ntext/plain byline\ntext/plain date\ntext/html sanitized_html\ntext/html sanitized_html\ntext/plain sanitized_html\ntext/plain sanitized_html\ntext/plain sanitized_html\ntext/html sanitized_html\ntext/plain sanitized_html\ntext/html sanitized_html\ntext/html sanitized_html\ntext/html sanitized_html\ntext/plain sanitized_html\ntext/plain sanitized_html\ntext/plain sanitized_html\ntext/plain sanitized_html\ntext/plain sanitized_html\ntext/plain sanitized_html\ntext/plain sanitized_html\ntext/plain sanitized_html\nNone author_info\n"
     ]
    }
   ],
   "source": [
    "for content in text1['contents']:\n",
    "    print(content.get('mime'), content.get('type'))"
   ]
  },
  {
   "cell_type": "code",
   "execution_count": null,
   "metadata": {},
   "outputs": [],
   "source": []
  }
 ],
 "metadata": {
  "kernelspec": {
   "display_name": "Python 2",
   "language": "python",
   "name": "python2"
  },
  "language_info": {
   "codemirror_mode": {
    "name": "ipython",
    "version": 2
   },
   "file_extension": ".py",
   "mimetype": "text/x-python",
   "name": "python",
   "nbconvert_exporter": "python",
   "pygments_lexer": "ipython2",
   "version": "2.7.6"
  }
 },
 "nbformat": 4,
 "nbformat_minor": 0
}
